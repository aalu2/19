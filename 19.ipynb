{
  "nbformat": 4,
  "nbformat_minor": 0,
  "metadata": {
    "colab": {
      "provenance": []
    },
    "kernelspec": {
      "name": "python3",
      "display_name": "Python 3"
    },
    "language_info": {
      "name": "python"
    }
  },
  "cells": [
    {
      "cell_type": "code",
      "source": [
        "#Answer of 1 \n",
        "class Node:\n",
        "    def __init__(self, data):\n",
        "        self.data = data\n",
        "        self.left = None\n",
        "        self.right = None\n",
        "\n",
        "def triple_leaves(root):\n",
        "    if root is None:\n",
        "        return\n",
        "    if root.left is None and root.right is None:\n",
        "        root.data *= 3\n",
        "    else:\n",
        "        triple_leaves(root.left)\n",
        "        triple_leaves(root.right)\n",
        "\n",
        "def test_triple_leaves():\n",
        "    # create a binary tree\n",
        "    root = Node(1)\n",
        "    root.left = Node(2)\n",
        "    root.right = Node(3)\n",
        "    root.left.left = Node(4)\n",
        "    root.left.right = Node(5)\n",
        "    root.right.left = Node(6)\n",
        "    root.right.right = Node(7)\n",
        "\n",
        "    # triple the leaves\n",
        "    triple_leaves(root)\n",
        "\n",
        "    \n",
        "    assert root.left.left.data == 12\n",
        "    assert root.left.right.data == 15\n",
        "    assert root.right.left.data == 18\n",
        "    assert root.right.right.data == 21\n",
        "\n",
        "\n",
        "print(\"All tests passed!\")\n",
        "\n",
        "test_triple_leaves()\n",
        "\n"
      ],
      "metadata": {
        "colab": {
          "base_uri": "https://localhost:8080/"
        },
        "id": "6vsELNTRjUvQ",
        "outputId": "dfff331e-b061-40fb-fc49-522f94632f77"
      },
      "execution_count": 10,
      "outputs": [
        {
          "output_type": "stream",
          "name": "stdout",
          "text": [
            "All tests passed!\n"
          ]
        }
      ]
    },
    {
      "cell_type": "code",
      "source": [
        "#Answer of 2\n",
        "class TreeNode:\n",
        "    def __init__(self, val=0, left=None, right=None):\n",
        "        self.val = val\n",
        "        self.left = left\n",
        "        self.right = right\n",
        "\n",
        "class FibonacciTree:\n",
        "    def __init__(self):\n",
        "        self.root = None\n",
        "\n",
        "    def Fib_tree(self, n):\n",
        "        self.root = self._build_fib_tree(n)\n",
        "\n",
        "    def _build_fib_tree(self, n):\n",
        "        if n == 0:\n",
        "            return None\n",
        "        elif n == 1:\n",
        "            return TreeNode(0)\n",
        "        elif n == 2:\n",
        "            return TreeNode(1)\n",
        "\n",
        "        # build left and right subtrees\n",
        "        left = self._build_fib_tree(n-1)\n",
        "        right = self._build_fib_tree(n-2)\n",
        "\n",
        "        # create root node with value equal to the sum of the left and right subtrees\n",
        "        root_val = left.val + right.val\n",
        "        root = TreeNode(root_val)\n",
        "        root.left = left\n",
        "        root.right = right\n",
        "\n",
        "        return root\n",
        "\n",
        "def test_fib_tree():\n",
        "    # create Fibonacci trees for n = 6 and n = 7\n",
        "    fib_tree_6 = FibonacciTree()\n",
        "    fib_tree_6.Fib_tree(6)\n",
        "\n",
        "    fib_tree_7 = FibonacciTree()\n",
        "    fib_tree_7.Fib_tree(7)\n",
        "\n",
        "    # check the values of the nodes in the trees\n",
        "    def check_tree(root, values):\n",
        "        if not root:\n",
        "            return True\n",
        "        if root.val != values.pop(0):\n",
        "            return False\n",
        "        return check_tree(root.left, values) and check_tree(root.right, values)\n",
        "\n",
        "    assert check_tree(fib_tree_6.root, [5, 3, 2, 1, 1, 0, 1, 1, 1, 0, 2, 1, 1, 0, 1])\n",
        "    assert check_tree(fib_tree_7.root, [8, 5, 3, 2, 1, 1, 0, 1, 1, 1, 0, 2,\n",
        "                                        1, 1, 0, 1, 3, 2,\n",
        "                                        1,\n",
        "                                        1,\n",
        "                                        0,\n",
        "                                        1,\n",
        "                                        1,\n",
        "                                        1,\n",
        "                                        0])\n",
        "\n",
        "test_fib_tree()\n",
        "print(\"All tests passed!\")"
      ],
      "metadata": {
        "colab": {
          "base_uri": "https://localhost:8080/"
        },
        "id": "KcK78ifOqRQz",
        "outputId": "78fbacc9-7395-4b73-a021-2fb6ac608de0"
      },
      "execution_count": 6,
      "outputs": [
        {
          "output_type": "stream",
          "name": "stdout",
          "text": [
            "All tests passed!\n"
          ]
        }
      ]
    },
    {
      "cell_type": "code",
      "source": [
        "#Answer of 3\n",
        "class TreeNode:\n",
        "    def __init__(self, val=0, left=None, right=None):\n",
        "        self.val = val\n",
        "        self.left = left\n",
        "        self.right = right\n",
        "\n",
        "def prune(t, k):\n",
        "    if not t or k == 0:\n",
        "        return None\n",
        "    new_root = TreeNode(t.val)\n",
        "    new_root.left = prune(t.left, k-1)\n",
        "    new_root.right = prune(t.right, k-1)\n",
        "    return new_root\n",
        "\n",
        "def test_prune():\n",
        "    # create a binary tree\n",
        "    root = TreeNode(1)\n",
        "    root.left = TreeNode(2)\n",
        "    root.right = TreeNode(3)\n",
        "    root.left.left = TreeNode(4)\n",
        "    root.left.right = TreeNode(5)\n",
        "    root.right.left = TreeNode(6)\n",
        "    root.right.right = TreeNode(7)\n",
        "\n",
        "    # prune the tree to depth 3\n",
        "    new_tree = prune(root, 3)\n",
        "\n",
        "    # check the values of the nodes in the new tree\n",
        "    def check_tree(root, values):\n",
        "        if not root:\n",
        "            return True\n",
        "        if root.val != values.pop(0):\n",
        "            return False\n",
        "        return check_tree(root.left, values) and check_tree(root.right, values)\n",
        "\n",
        "    assert check_tree(new_tree, [1, 2, 4, 5, 3, 6, 7])\n",
        "\n",
        "test_prune()\n",
        "print(\"All tests passed!\")"
      ],
      "metadata": {
        "colab": {
          "base_uri": "https://localhost:8080/"
        },
        "id": "vty5dO6MATGq",
        "outputId": "e5123bfd-d2c6-41d7-a6a4-c643c5716034"
      },
      "execution_count": 8,
      "outputs": [
        {
          "output_type": "stream",
          "name": "stdout",
          "text": [
            "All tests passed!\n"
          ]
        }
      ]
    },
    {
      "cell_type": "code",
      "source": [
        "#Answer of 4\n",
        "class TreeNode:\n",
        "    def __init__(self, val=0, left=None, right=None):\n",
        "        self.val = val\n",
        "        self.left = left\n",
        "        self.right = right\n",
        "\n",
        "def eval(t):\n",
        "    if t.left is None and t.right is None:\n",
        "        return float(t.val)\n",
        "    left_val = eval(t.left)\n",
        "    right_val = eval(t.right)\n",
        "    if t.val == '+':\n",
        "        return left_val + right_val\n",
        "    elif t.val == '-':\n",
        "        return left_val - right_val\n",
        "    elif t.val == '*':\n",
        "        return left_val * right_val\n",
        "    elif t.val == '/':\n",
        "        return left_val / right_val\n",
        "    elif t.val == '//':\n",
        "        return left_val // right_val\n",
        "    elif t.val == '%':\n",
        "        return left_val % right_val\n",
        "    elif t.val == '**':\n",
        "        return left_val ** right_val\n",
        "\n",
        "def test_eval():\n",
        "    # create a binary tree representing the expression 3 + ((5+9)*2)\n",
        "    root1 = TreeNode('+')\n",
        "    root1.left = TreeNode('3')\n",
        "    root1.right = TreeNode('*')\n",
        "    root1.right.left = TreeNode('+')\n",
        "    root1.right.left.left = TreeNode('5')\n",
        "    root1.right.left.right = TreeNode('9')\n",
        "    root1.right.right = TreeNode('2')\n",
        "\n",
        "    # evaluate the expression\n",
        "    result1 = eval(root1)\n",
        "\n",
        "    # check the result\n",
        "    assert result1 == 31.0\n",
        "\n",
        "    # create a binary tree representing the expression (4-2)**3\n",
        "    root2 = TreeNode('**')\n",
        "    root2.left = TreeNode('-')\n",
        "    root2.left.left = TreeNode('4')\n",
        "    root2.left.right = TreeNode('2')\n",
        "    root2.right = TreeNode('3')\n",
        "\n",
        "    # evaluate the expression\n",
        "    result2 = eval(root2)\n",
        "\n",
        "    # check the result\n",
        "    assert result2 == 8.0\n",
        "\n",
        "test_eval()\n",
        "print(\"All tests passed!\")"
      ],
      "metadata": {
        "colab": {
          "base_uri": "https://localhost:8080/"
        },
        "id": "P2fU8Nn1AlWi",
        "outputId": "07efbadc-69bf-4fc1-f00b-6d703090f74c"
      },
      "execution_count": 9,
      "outputs": [
        {
          "output_type": "stream",
          "name": "stdout",
          "text": [
            "All tests passed!\n"
          ]
        }
      ]
    }
  ]
}